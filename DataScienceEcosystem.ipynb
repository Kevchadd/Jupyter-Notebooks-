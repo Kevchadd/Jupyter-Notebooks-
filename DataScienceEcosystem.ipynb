{
 "cells": [
  {
   "cell_type": "markdown",
   "id": "68be4984-1dc6-4841-9b0e-91a67e86fad4",
   "metadata": {},
   "source": [
    "# Data Science Tools and Ecosystem"
   ]
  },
  {
   "cell_type": "markdown",
   "id": "87c8ecf9-48fe-4644-afcc-2cf2ca54b339",
   "metadata": {},
   "source": [
    "**Objectives:**\n",
    "- Popular languages for data scientist\n",
    "- Commonly used languages\n",
    "- How to use Jupyter notebooks\n"
   ]
  },
  {
   "cell_type": "markdown",
   "id": "003907b8-1a9f-4a57-a178-4d42ce01ece4",
   "metadata": {},
   "source": [
    "In this notebook, Data Science Tools and Ecosystem are summarized."
   ]
  },
  {
   "cell_type": "markdown",
   "id": "4d4b2a7e-255d-4f5e-935f-eed4feb944a2",
   "metadata": {},
   "source": [
    "Some of the popular languages that Data Scientists use are:\n",
    "\n",
    "```\n",
    "1. Python\n",
    "2. Java\n",
    "3. C++\n",
    "4. C   \n",
    "```"
   ]
  },
  {
   "cell_type": "markdown",
   "id": "3c6d8ddf-497e-4029-9c01-0bd12b807f57",
   "metadata": {},
   "source": [
    "Some of the commonly used libraries used by Data Scientists include:\n",
    "```\n",
    "1.NumPy\n",
    "2.Pandas\n",
    "3.Scikit-learn\n",
    "```"
   ]
  },
  {
   "cell_type": "markdown",
   "id": "8ae09026-01a9-4f72-897a-222d53f83a07",
   "metadata": {},
   "source": [
    "| Data Science Tools |\n",
    "| -------------| \n",
    "| Apache Spark | \n",
    "| TensorFlow | \n",
    "| Apache Hadoop |"
   ]
  },
  {
   "cell_type": "markdown",
   "id": "0e693f9f-ce19-4785-a927-cf8e9933c870",
   "metadata": {},
   "source": [
    "### Below are a few examples of evaluating arithmetic expressions in Python"
   ]
  },
  {
   "cell_type": "code",
   "execution_count": 4,
   "id": "cf5f4853-18c4-4407-acf9-a7caf9292a5a",
   "metadata": {},
   "outputs": [
    {
     "data": {
      "text/plain": [
       "17"
      ]
     },
     "execution_count": 4,
     "metadata": {},
     "output_type": "execute_result"
    }
   ],
   "source": [
    "#This a simple arithmetic expression to mutiply then add integers\n",
    "(3*4)+5"
   ]
  },
  {
   "cell_type": "code",
   "execution_count": 5,
   "id": "5daef77c-8dba-49a2-b142-05c4ae299429",
   "metadata": {},
   "outputs": [
    {
     "data": {
      "text/plain": [
       "3.3333333333333335"
      ]
     },
     "execution_count": 5,
     "metadata": {},
     "output_type": "execute_result"
    }
   ],
   "source": [
    "#This will convert 200 minutes to hours by diving by 60\n",
    "\n",
    "200/60"
   ]
  },
  {
   "cell_type": "markdown",
   "id": "f6c39056-f492-4581-a9f1-eb478752e034",
   "metadata": {},
   "source": [
    "## Author\n",
    "\n",
    "Kevin Chadderton\n"
   ]
  },
  {
   "cell_type": "code",
   "execution_count": null,
   "id": "97836c75-d69d-4378-9293-1c358adb1c6f",
   "metadata": {},
   "outputs": [],
   "source": []
  }
 ],
 "metadata": {
  "kernelspec": {
   "display_name": "Python 3 (ipykernel)",
   "language": "python",
   "name": "python3"
  },
  "language_info": {
   "codemirror_mode": {
    "name": "ipython",
    "version": 3
   },
   "file_extension": ".py",
   "mimetype": "text/x-python",
   "name": "python",
   "nbconvert_exporter": "python",
   "pygments_lexer": "ipython3",
   "version": "3.11.9"
  }
 },
 "nbformat": 4,
 "nbformat_minor": 5
}
